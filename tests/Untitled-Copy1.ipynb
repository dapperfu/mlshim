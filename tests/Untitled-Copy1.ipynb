{
 "cells": [
  {
   "cell_type": "code",
   "execution_count": 1,
   "metadata": {},
   "outputs": [],
   "source": [
    "import glob"
   ]
  },
  {
   "cell_type": "code",
   "execution_count": 2,
   "metadata": {},
   "outputs": [],
   "source": [
    "logs = glob.glob(\"*.log\")"
   ]
  },
  {
   "cell_type": "code",
   "execution_count": 3,
   "metadata": {},
   "outputs": [],
   "source": [
    "for log in logs:\n",
    "    break"
   ]
  },
  {
   "cell_type": "code",
   "execution_count": 6,
   "metadata": {},
   "outputs": [],
   "source": [
    "import mlshim"
   ]
  },
  {
   "cell_type": "code",
   "execution_count": 7,
   "metadata": {},
   "outputs": [
    {
     "data": {
      "text/plain": [
       "['build_model_template.m', 'run_template.m', 'launch_template.m', 'base.m']"
      ]
     },
     "execution_count": 7,
     "metadata": {},
     "output_type": "execute_result"
    }
   ],
   "source": [
    "mlshim.utils.get_templates()"
   ]
  },
  {
   "cell_type": "code",
   "execution_count": 24,
   "metadata": {},
   "outputs": [
    {
     "name": "stdout",
     "output_type": "stream",
     "text": [
      "M:\\MATLAB\\R2014b\\bin\\matlab.exe\n",
      "M:\\MATLAB\\R2015b\\bin\\matlab.exe\n",
      "M:\\MATLAB\\R2016b\\bin\\matlab.exe\n",
      "M:\\MATLAB\\R2017b\\bin\\matlab.exe\n",
      "M:\\MATLAB\\R2018b\\bin\\matlab.exe\n",
      "M:\\MATLAB\\R2019b\\bin\\matlab.exe\n"
     ]
    }
   ],
   "source": [
    "for matlab in matlabs:\n",
    "    print(f\"\"\"\n",
    "matlab.exe    \n",
    "\"\"\")"
   ]
  },
  {
   "cell_type": "code",
   "execution_count": null,
   "metadata": {},
   "outputs": [],
   "source": [
    "import j"
   ]
  },
  {
   "cell_type": "code",
   "execution_count": null,
   "metadata": {},
   "outputs": [],
   "source": [
    "{% for item in navigation %}"
   ]
  },
  {
   "cell_type": "code",
   "execution_count": 25,
   "metadata": {},
   "outputs": [
    {
     "data": {
      "text/plain": [
       "'My favorite numbers: 1 2 3 4 5 6 7 8 9 '"
      ]
     },
     "execution_count": 25,
     "metadata": {},
     "output_type": "execute_result"
    }
   ],
   "source": [
    "from jinja2 import Template\n",
    "t = Template(\"Hello {{ something }}!\")\n",
    "t.render(something=\"World\")\n",
    "\n",
    "t = Template(\"My favorite numbers: {% for n in range(1,10) %}{{n}} \" \"{% endfor %}\")\n",
    "t.render()\n"
   ]
  },
  {
   "cell_type": "code",
   "execution_count": 50,
   "metadata": {},
   "outputs": [
    {
     "name": "stdout",
     "output_type": "stream",
     "text": [
      "@ECHO OFF\n",
      ":: Matlab Version Spawner Batchfile\n",
      "::  Batch launch all installed Matlab versions.\n",
      "::  Debugging\n",
      "\n",
      ":: Launch MATLAB R2014b\n",
      "del \"matlab_R2014b.log\"\n",
      "\"M:\\MATLAB\\R2014b\\bin\\matlab.exe\" -nosplash -logfile \"matlab_R2014b.log\" -wait -r\"clear;ver;\"\n",
      "\"C:\\Program Files\\Notepad++\\notepad++.exe\" \"matlab_R2014b.log\"\n",
      "\n",
      ":: Launch MATLAB R2015b\n",
      "del \"matlab_R2015b.log\"\n",
      "\"M:\\MATLAB\\R2015b\\bin\\matlab.exe\" -nosplash -logfile \"matlab_R2015b.log\" -wait -r\"clear;ver;\"\n",
      "\"C:\\Program Files\\Notepad++\\notepad++.exe\" \"matlab_R2015b.log\"\n",
      "\n",
      ":: Launch MATLAB R2016b\n",
      "del \"matlab_R2016b.log\"\n",
      "\"M:\\MATLAB\\R2016b\\bin\\matlab.exe\" -nosplash -logfile \"matlab_R2016b.log\" -wait -r\"clear;ver;\"\n",
      "\"C:\\Program Files\\Notepad++\\notepad++.exe\" \"matlab_R2016b.log\"\n",
      "\n",
      ":: Launch MATLAB R2017b\n",
      "del \"matlab_R2017b.log\"\n",
      "\"M:\\MATLAB\\R2017b\\bin\\matlab.exe\" -nosplash -logfile \"matlab_R2017b.log\" -wait -r\"clear;ver;\"\n",
      "\"C:\\Program Files\\Notepad++\\notepad++.exe\" \"matlab_R2017b.log\"\n",
      "\n",
      ":: Launch MATLAB R2018b\n",
      "del \"matlab_R2018b.log\"\n",
      "\"M:\\MATLAB\\R2018b\\bin\\matlab.exe\" -nosplash -logfile \"matlab_R2018b.log\" -wait -r\"clear;ver;\"\n",
      "\"C:\\Program Files\\Notepad++\\notepad++.exe\" \"matlab_R2018b.log\"\n",
      "\n",
      ":: Launch MATLAB R2019b\n",
      "del \"matlab_R2019b.log\"\n",
      "\"M:\\MATLAB\\R2019b\\bin\\matlab.exe\" -nosplash -logfile \"matlab_R2019b.log\" -wait -r\"clear;ver;\"\n",
      "\"C:\\Program Files\\Notepad++\\notepad++.exe\" \"matlab_R2019b.log\"\n",
      "\n",
      "\n"
     ]
    }
   ],
   "source": [
    "t = Template(\"\"\"@ECHO OFF\n",
    ":: Matlab Version Spawner Batchfile\n",
    "::  Batch launch all installed Matlab versions\n",
    "::  for debugging purposes.\n",
    "\n",
    "{% for matlab in matlabs -%}\n",
    ":: Launch MATLAB {{ matlab.version }}\n",
    "del \"matlab_{{ matlab.version }}.log\"\n",
    "\"{{ matlab.exe }}\" -nosplash -logfile \"matlab_{{ matlab.version }}.log\" -wait -r\"ver\"\n",
    "\n",
    "{% endfor %}\n",
    "\"\"\")\n",
    "with open(r\"M:\\matlabs_launcher.bat\", \"w\") as fid:\n",
    "    print(t.render(matlabs=matlabs))\n",
    "    print(t.render(matlabs=matlabs), file=fid)"
   ]
  },
  {
   "cell_type": "code",
   "execution_count": 42,
   "metadata": {},
   "outputs": [],
   "source": [
    "-sd "
   ]
  },
  {
   "cell_type": "code",
   "execution_count": null,
   "metadata": {},
   "outputs": [],
   "source": []
  }
 ],
 "metadata": {
  "kernelspec": {
   "display_name": "Python 3",
   "language": "python",
   "name": "python3"
  },
  "language_info": {
   "codemirror_mode": {
    "name": "ipython",
    "version": 3
   },
   "file_extension": ".py",
   "mimetype": "text/x-python",
   "name": "python",
   "nbconvert_exporter": "python",
   "pygments_lexer": "ipython3",
   "version": "3.7.6"
  }
 },
 "nbformat": 4,
 "nbformat_minor": 2
}
