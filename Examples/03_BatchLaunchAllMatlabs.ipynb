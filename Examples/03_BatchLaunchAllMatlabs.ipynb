{
 "cells": [
  {
   "cell_type": "code",
   "execution_count": 3,
   "metadata": {},
   "outputs": [],
   "source": [
    "import mlshim\n",
    "from typing import List\n",
    "from mlshim import Matlab"
   ]
  },
  {
   "cell_type": "markdown",
   "metadata": {},
   "source": [
    "# Print \\_MATLAB_BASE\n",
    "\n",
    "The default path for Windows is ```C:\\Program Files\\Matlab```\n",
    "\n",
    "However your organization may install MATLAB to:\n",
    "\n",
    "- C:\\MATLAB\n",
    "- D:\\MATLAB\n",
    "\n",
    "elsewhere."
   ]
  },
  {
   "cell_type": "code",
   "execution_count": 4,
   "metadata": {
    "slideshow": {
     "slide_type": "slide"
    }
   },
   "outputs": [
    {
     "data": {
      "text/plain": [
       "'M:\\\\MATLAB'"
      ]
     },
     "execution_count": 4,
     "metadata": {},
     "output_type": "execute_result"
    }
   ],
   "source": [
    "mlshim.consts._MATLAB_BASE"
   ]
  },
  {
   "cell_type": "markdown",
   "metadata": {},
   "source": [
    "# Print all found Matlab Versions"
   ]
  },
  {
   "cell_type": "code",
   "execution_count": 5,
   "metadata": {
    "scrolled": true
   },
   "outputs": [
    {
     "data": {
      "text/plain": [
       "['R2014b', 'R2015b', 'R2016b', 'R2017b', 'R2018b', 'R2019b']"
      ]
     },
     "execution_count": 5,
     "metadata": {},
     "output_type": "execute_result"
    }
   ],
   "source": [
    "mlshim.utils.get_versions()"
   ]
  },
  {
   "cell_type": "code",
   "execution_count": 10,
   "metadata": {},
   "outputs": [
    {
     "data": {
      "text/plain": [
       "[Matlab<R2014b, 'Z:\\mlshim\\tests', e04fbdd0-3eea-4175-9059-654db4ce6713>,\n",
       " Matlab<R2015b, 'Z:\\mlshim\\tests', 4a8678c3-d26b-4a15-92e5-3ad7856b6da8>,\n",
       " Matlab<R2016b, 'Z:\\mlshim\\tests', ef0a1168-5c26-4db0-8de0-eebc449e0bb2>,\n",
       " Matlab<R2017b, 'Z:\\mlshim\\tests', 985ac1b9-14b3-42e2-a7bb-4710d0489cfe>,\n",
       " Matlab<R2018b, 'Z:\\mlshim\\tests', 79206814-5ced-4528-9d60-0d5af16d68d4>,\n",
       " Matlab<R2019b, 'Z:\\mlshim\\tests', d1f18146-3d84-4fd7-9bd1-82f1cdc08ce3>]"
      ]
     },
     "execution_count": 10,
     "metadata": {},
     "output_type": "execute_result"
    }
   ],
   "source": [
    "matlabs: List[Matlab] = list()\n",
    "for version in mlshim.utils.get_versions():\n",
    "    matlab = Matlab(version=version)\n",
    "    matlabs.append(matlab)\n",
    "matlabs"
   ]
  },
  {
   "cell_type": "code",
   "execution_count": 11,
   "metadata": {},
   "outputs": [],
   "source": [
    "from jinja2 import Template"
   ]
  },
  {
   "cell_type": "markdown",
   "metadata": {},
   "source": [
    "Small script template."
   ]
  },
  {
   "cell_type": "code",
   "execution_count": 12,
   "metadata": {},
   "outputs": [],
   "source": [
    "import os"
   ]
  },
  {
   "cell_type": "code",
   "execution_count": 20,
   "metadata": {},
   "outputs": [
    {
     "name": "stdout",
     "output_type": "stream",
     "text": [
      "% Auto Generated Script\n",
      "clear;\n",
      "clc;\n",
      "fprintf('prefdir: %s\\n', prefdir)\n",
      "fprintf('matlabroot: %s\\n', matlabroot)\n",
      "% Dump Version Information\n",
      "v = ver;\n",
      "v2 = struct2cell(v);\n",
      "fprintf('%s,%s,%s,%s\\n', 'name', 'version', 'release', 'date')\n",
      "for idx = 1:size(v2, 3)\n",
      "    fprintf('%s,%s,%s,%s\\n', v2{:, 1, idx});\n",
      "end\n",
      "exit(0);\n"
     ]
    }
   ],
   "source": [
    "script_template = Template(\"\"\"% Auto Generated Script\n",
    "clear;\n",
    "clc;\n",
    "fprintf('prefdir: %s\\\\n', prefdir)\n",
    "fprintf('matlabroot: %s\\\\n', matlabroot)\n",
    "% Dump Version Information\n",
    "v = ver;\n",
    "v2 = struct2cell(v);\n",
    "fprintf('%s,%s,%s,%s\\\\n', 'name', 'version', 'release', 'date')\n",
    "for idx = 1:size(v2, 3)\n",
    "    fprintf('%s,%s,%s,%s\\\\n', v2{:, 1, idx});\n",
    "end\n",
    "exit(0);\n",
    "\"\"\")\n",
    "script = os.path.join(os.path.expandvars(\"%HOMEDRIVE%%HOMEPATH%\"), \"Desktop\", \"launcher_script.m\")\n",
    "with open(script, \"w\") as fid:\n",
    "    print(script_template.render())\n",
    "    print(script_template.render(), file=fid)"
   ]
  },
  {
   "cell_type": "code",
   "execution_count": 21,
   "metadata": {},
   "outputs": [
    {
     "name": "stdout",
     "output_type": "stream",
     "text": [
      "@ECHO OFF\n",
      ":: Matlab Version Spawner Batchfile\n",
      "::  Batch launch all installed Matlab versions.\n",
      "\n",
      ":: Launch MATLAB R2014b\n",
      "\"M:\\MATLAB\\R2014b\\bin\\matlab.exe\" -nosplash -logfile \"matlab_R2014b.log\" -wait -r \"run('C:\\Users\\admin\\Desktop\\launcher_script.m')\"\n",
      "\n",
      ":: Launch MATLAB R2015b\n",
      "\"M:\\MATLAB\\R2015b\\bin\\matlab.exe\" -nosplash -logfile \"matlab_R2015b.log\" -wait -r \"run('C:\\Users\\admin\\Desktop\\launcher_script.m')\"\n",
      "\n",
      ":: Launch MATLAB R2016b\n",
      "\"M:\\MATLAB\\R2016b\\bin\\matlab.exe\" -nosplash -logfile \"matlab_R2016b.log\" -wait -r \"run('C:\\Users\\admin\\Desktop\\launcher_script.m')\"\n",
      "\n",
      ":: Launch MATLAB R2017b\n",
      "\"M:\\MATLAB\\R2017b\\bin\\matlab.exe\" -nosplash -logfile \"matlab_R2017b.log\" -wait -r \"run('C:\\Users\\admin\\Desktop\\launcher_script.m')\"\n",
      "\n",
      ":: Launch MATLAB R2018b\n",
      "\"M:\\MATLAB\\R2018b\\bin\\matlab.exe\" -nosplash -logfile \"matlab_R2018b.log\" -wait -r \"run('C:\\Users\\admin\\Desktop\\launcher_script.m')\"\n",
      "\n",
      ":: Launch MATLAB R2019b\n",
      "\"M:\\MATLAB\\R2019b\\bin\\matlab.exe\" -nosplash -logfile \"matlab_R2019b.log\" -wait -r \"run('C:\\Users\\admin\\Desktop\\launcher_script.m')\"\n",
      "\n",
      "\n"
     ]
    }
   ],
   "source": [
    "batch_template = Template(\"\"\"@ECHO OFF\n",
    ":: Matlab Version Spawner Batchfile\n",
    "::  Batch launch all installed Matlab versions.\n",
    "\n",
    "{% for matlab in matlabs -%}\n",
    ":: Launch MATLAB {{ matlab.version }}\n",
    "\"{{ matlab.exe }}\" -nosplash -logfile \"matlab_{{ matlab.version }}.log\" -wait -r \"run('{{ script }}')\"\n",
    "\n",
    "{% endfor %}\n",
    "\"\"\")\n",
    "batch = os.path.join(os.path.expandvars(\"%HOMEDRIVE%%HOMEPATH%\"), \"Desktop\", \"launcher_script.bat\")\n",
    "with open(batch, \"w\") as fid:\n",
    "    print(batch_template.render(matlabs=matlabs, script=script))\n",
    "    print(batch_template.render(matlabs=matlabs, script=script), file=fid)"
   ]
  }
 ],
 "metadata": {
  "kernelspec": {
   "display_name": "Python 3",
   "language": "python",
   "name": "python3"
  },
  "language_info": {
   "codemirror_mode": {
    "name": "ipython",
    "version": 3
   },
   "file_extension": ".py",
   "mimetype": "text/x-python",
   "name": "python",
   "nbconvert_exporter": "python",
   "pygments_lexer": "ipython3",
   "version": "3.7.6"
  }
 },
 "nbformat": 4,
 "nbformat_minor": 2
}
