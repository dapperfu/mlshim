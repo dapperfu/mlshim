{
 "cells": [
  {
   "cell_type": "code",
   "execution_count": 3,
   "metadata": {},
   "outputs": [],
   "source": [
    "from mlshim import Matlab\n",
    "import os\n",
    "import datetime"
   ]
  },
  {
   "cell_type": "code",
   "execution_count": 4,
   "metadata": {},
   "outputs": [],
   "source": [
    "working_directory = datetime.datetime.strftime(datetime.datetime.now(), \"working_%Y%b%d_%H%m%S_%f\")\n",
    "mlab = Matlab(working_directory=working_directory)"
   ]
  },
  {
   "cell_type": "code",
   "execution_count": 5,
   "metadata": {},
   "outputs": [
    {
     "data": {
      "text/plain": [
       "['M:\\\\MATLAB\\\\R2019b\\\\bin\\\\matlab.exe',\n",
       " '-logfile',\n",
       " 'P:\\\\Projects\\\\mlshim\\\\development\\\\working_2020Jan09_130139_621438\\\\mlshim_9b0d89ad3f4940e89e8d9b850e112790.log',\n",
       " '-r',\n",
       " \"run('P:\\\\Projects\\\\mlshim\\\\development\\\\working_2020Jan09_130139_621438\\\\mlshim_9b0d89ad3f4940e89e8d9b850e112790.m');\"]"
      ]
     },
     "execution_count": 5,
     "metadata": {},
     "output_type": "execute_result"
    }
   ],
   "source": [
    "mlab.cmd"
   ]
  },
  {
   "cell_type": "code",
   "execution_count": 6,
   "metadata": {},
   "outputs": [
    {
     "data": {
      "text/plain": [
       "{'Script Creation': '2020-01-09T13:43:41.581437-08:00',\n",
       " 'mlshim uuid': UUID('9b0d89ad-3f49-40e8-9e8d-9b850e112790'),\n",
       " 'script uuid': UUID('9b9dd1ea-7225-42d5-91da-269e1aec694d')}"
      ]
     },
     "execution_count": 6,
     "metadata": {},
     "output_type": "execute_result"
    }
   ],
   "source": [
    "mlab.headers"
   ]
  },
  {
   "cell_type": "code",
   "execution_count": 7,
   "metadata": {},
   "outputs": [
    {
     "data": {
      "text/plain": [
       "'2020-01-09T13:43:42.126319-08:00'"
      ]
     },
     "execution_count": 7,
     "metadata": {},
     "output_type": "execute_result"
    }
   ],
   "source": [
    "mlab._now.astimezone().isoformat()"
   ]
  },
  {
   "cell_type": "code",
   "execution_count": 8,
   "metadata": {},
   "outputs": [
    {
     "data": {
      "text/plain": [
       "['M:\\\\MATLAB\\\\R2019b\\\\bin\\\\matlab.exe',\n",
       " '-logfile',\n",
       " 'P:\\\\Projects\\\\mlshim\\\\development\\\\working_2020Jan09_130139_621438\\\\mlshim_9b0d89ad3f4940e89e8d9b850e112790.log',\n",
       " '-r',\n",
       " \"run('P:\\\\Projects\\\\mlshim\\\\development\\\\working_2020Jan09_130139_621438\\\\mlshim_9b0d89ad3f4940e89e8d9b850e112790.m');\"]"
      ]
     },
     "execution_count": 8,
     "metadata": {},
     "output_type": "execute_result"
    }
   ],
   "source": [
    "mlab.cmd"
   ]
  },
  {
   "cell_type": "code",
   "execution_count": 9,
   "metadata": {},
   "outputs": [
    {
     "name": "stdout",
     "output_type": "stream",
     "text": [
      "%% Automatically Generated Run Script\n",
      "% Script Creation: 2020-01-09T13:43:44.307070-08:00 \n",
      "% mlshim uuid: 9b0d89ad-3f49-40e8-9e8d-9b850e112790 \n",
      "% script uuid: efe54911-2c7b-4acc-bbb8-1fd445f365f8 \n",
      "\n",
      "try\n",
      "    fprintf('########## Started ##########\\n');\n",
      "    cd('P:\\Projects\\mlshim\\development\\working_2020Jan09_130139_621438');\n",
      "catch me\n",
      "    fprintf('########## Failed ##########\\n');\n",
      "    fprintf('ERROR: %s (%s)\\n\\n',me.message, me.identifier)\n",
      "    for i = numel(me.stack):-1:1\n",
      "        fprintf('[Line %02d]: %s\\n',me.stack(i).line,me.stack(i).file)\n",
      "    end\n",
      "    exit(1);\n",
      "end\n",
      "fprintf('########## Finished ##########\\n');\n",
      "exit(0);\n"
     ]
    }
   ],
   "source": [
    "print(mlab._render_template())"
   ]
  },
  {
   "cell_type": "code",
   "execution_count": 11,
   "metadata": {},
   "outputs": [
    {
     "name": "stdout",
     "output_type": "stream",
     "text": [
      "Matlab finished\n"
     ]
    }
   ],
   "source": [
    "mlab.run()"
   ]
  },
  {
   "cell_type": "code",
   "execution_count": null,
   "metadata": {},
   "outputs": [],
   "source": []
  }
 ],
 "metadata": {
  "kernelspec": {
   "display_name": "Python 3",
   "language": "python",
   "name": "python3"
  },
  "language_info": {
   "codemirror_mode": {
    "name": "ipython",
    "version": 3
   },
   "file_extension": ".py",
   "mimetype": "text/x-python",
   "name": "python",
   "nbconvert_exporter": "python",
   "pygments_lexer": "ipython3",
   "version": "3.7.6"
  }
 },
 "nbformat": 4,
 "nbformat_minor": 2
}
