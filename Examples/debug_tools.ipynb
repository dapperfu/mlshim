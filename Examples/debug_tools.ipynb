{
 "cells": [
  {
   "cell_type": "code",
   "execution_count": 1,
   "metadata": {},
   "outputs": [],
   "source": [
    "import glob"
   ]
  },
  {
   "cell_type": "code",
   "execution_count": 2,
   "metadata": {},
   "outputs": [],
   "source": [
    "logs = glob.glob(\"*.log\")"
   ]
  },
  {
   "cell_type": "code",
   "execution_count": 5,
   "metadata": {},
   "outputs": [],
   "source": [
    "for log in logs:\n",
    "    break"
   ]
  },
  {
   "cell_type": "code",
   "execution_count": 7,
   "metadata": {},
   "outputs": [],
   "source": [
    "with open(log, \"r\") as fid:\n",
    "    log_file = fid.read()"
   ]
  },
  {
   "cell_type": "code",
   "execution_count": 9,
   "metadata": {},
   "outputs": [
    {
     "name": "stdout",
     "output_type": "stream",
     "text": [
      "Severe:\n",
      "Error checking out license\n",
      "The program '[5364] M:\\MATLAB\\R2016b\\bin\\win64\\MATLAB.exe: Native' has exited with code 1 (0x1).\n",
      "\n"
     ]
    }
   ],
   "source": [
    "print(log_file)"
   ]
  },
  {
   "cell_type": "code",
   "execution_count": 11,
   "metadata": {},
   "outputs": [
    {
     "data": {
      "text/plain": [
       "True"
      ]
     },
     "execution_count": 11,
     "metadata": {},
     "output_type": "execute_result"
    }
   ],
   "source": [
    "# Strip ending new line from all lines\n",
    "lines = [line.strip() for line in log_file.splitlines()]\n",
    "\"Error checking out license\" in lines"
   ]
  },
  {
   "cell_type": "code",
   "execution_count": 13,
   "metadata": {},
   "outputs": [],
   "source": [
    "import mlshim"
   ]
  },
  {
   "cell_type": "code",
   "execution_count": 14,
   "metadata": {},
   "outputs": [
    {
     "data": {
      "text/plain": [
       "['build_model_template.m', 'run_template.m', 'launch_template.m', 'base.m']"
      ]
     },
     "execution_count": 14,
     "metadata": {},
     "output_type": "execute_result"
    }
   ],
   "source": [
    "mlshim.utils.get_templates()"
   ]
  },
  {
   "cell_type": "code",
   "execution_count": 15,
   "metadata": {},
   "outputs": [
    {
     "data": {
      "text/plain": [
       "['R2014b', 'R2015b', 'R2016b', 'R2017b', 'R2018b', 'R2019b']"
      ]
     },
     "execution_count": 15,
     "metadata": {},
     "output_type": "execute_result"
    }
   ],
   "source": [
    "mlshim.utils.get_versions()"
   ]
  },
  {
   "cell_type": "code",
   "execution_count": 16,
   "metadata": {},
   "outputs": [],
   "source": [
    "from typing import List"
   ]
  },
  {
   "cell_type": "code",
   "execution_count": 17,
   "metadata": {},
   "outputs": [],
   "source": [
    "from mlshim import Matlab"
   ]
  },
  {
   "cell_type": "code",
   "execution_count": 22,
   "metadata": {},
   "outputs": [],
   "source": [
    "matlabs: List[Matlab] = list()\n",
    "for version in mlshim.utils.get_versions():\n",
    "    matlab = Matlab(version=version)\n",
    "    matlabs.append(matlab)"
   ]
  },
  {
   "cell_type": "code",
   "execution_count": 23,
   "metadata": {},
   "outputs": [
    {
     "data": {
      "text/plain": [
       "[Matlab<R2014b, 'Z:\\mlshim\\tests', 047a223e-a0bf-496f-9984-9da1d28ee803>,\n",
       " Matlab<R2015b, 'Z:\\mlshim\\tests', 7d67be69-2b7b-4c75-8c1e-1300c0b1b199>,\n",
       " Matlab<R2016b, 'Z:\\mlshim\\tests', b24e4d33-0aa9-4b1e-ac3b-a81a794467ba>,\n",
       " Matlab<R2017b, 'Z:\\mlshim\\tests', 93b5eb33-73c7-4a51-8245-81935a88b1d3>,\n",
       " Matlab<R2018b, 'Z:\\mlshim\\tests', 9f72508d-2b2c-4651-9130-c42c98bffcfe>,\n",
       " Matlab<R2019b, 'Z:\\mlshim\\tests', 77902723-6dfc-4321-8825-37f7d7c7d4ea>]"
      ]
     },
     "execution_count": 23,
     "metadata": {},
     "output_type": "execute_result"
    }
   ],
   "source": [
    "matlabs"
   ]
  },
  {
   "cell_type": "code",
   "execution_count": 24,
   "metadata": {},
   "outputs": [
    {
     "name": "stdout",
     "output_type": "stream",
     "text": [
      "M:\\MATLAB\\R2014b\\bin\\matlab.exe\n",
      "M:\\MATLAB\\R2015b\\bin\\matlab.exe\n",
      "M:\\MATLAB\\R2016b\\bin\\matlab.exe\n",
      "M:\\MATLAB\\R2017b\\bin\\matlab.exe\n",
      "M:\\MATLAB\\R2018b\\bin\\matlab.exe\n",
      "M:\\MATLAB\\R2019b\\bin\\matlab.exe\n"
     ]
    }
   ],
   "source": [
    "for matlab in matlabs:\n",
    "    print(f\"\"\"\n",
    "matlab.exe    \n",
    "\"\"\")"
   ]
  },
  {
   "cell_type": "code",
   "execution_count": null,
   "metadata": {},
   "outputs": [],
   "source": [
    "import j"
   ]
  },
  {
   "cell_type": "code",
   "execution_count": null,
   "metadata": {},
   "outputs": [],
   "source": [
    "{% for item in navigation %}"
   ]
  },
  {
   "cell_type": "code",
   "execution_count": 25,
   "metadata": {},
   "outputs": [
    {
     "data": {
      "text/plain": [
       "'My favorite numbers: 1 2 3 4 5 6 7 8 9 '"
      ]
     },
     "execution_count": 25,
     "metadata": {},
     "output_type": "execute_result"
    }
   ],
   "source": [
    "from jinja2 import Template\n",
    "t = Template(\"Hello {{ something }}!\")\n",
    "t.render(something=\"World\")\n",
    "\n",
    "t = Template(\"My favorite numbers: {% for n in range(1,10) %}{{n}} \" \"{% endfor %}\")\n",
    "t.render()\n"
   ]
  },
  {
   "cell_type": "code",
   "execution_count": 59,
   "metadata": {},
   "outputs": [
    {
     "name": "stdout",
     "output_type": "stream",
     "text": [
      "% Auto Generated Script\n",
      "clear;\n",
      "clc;\n",
      "fprintf(\"prefdir: %s\n",
      "\", prefdir)\n",
      "fprintf(\"matlabroot: %s\n",
      "\", matlabroot)\n",
      "% Dump Version Information\n",
      "v = ver;\n",
      "v2 = struct2cell(v);\n",
      "fprintf(\"%s,%s,%s,%s\n",
      "\", \"name\", \"version\", \"release\", \"date\")\n",
      "for idx = 1:size(v2, 3)\n",
      "    fprintf(\"%s,%s,%s,%s\n",
      "\", v2{:, 1, idx})\n",
      "end\n",
      "exit(0)\n"
     ]
    }
   ],
   "source": [
    "t = Template(\"\"\"% Auto Generated Script\n",
    "clear;\n",
    "clc;\n",
    "fprintf(\"prefdir: %s\\n\", prefdir)\n",
    "fprintf(\"matlabroot: %s\\n\", matlabroot)\n",
    "% Dump Version Information\n",
    "v = ver;\n",
    "v2 = struct2cell(v);\n",
    "fprintf(\"%s,%s,%s,%s\\n\", \"name\", \"version\", \"release\", \"date\")\n",
    "for idx = 1:size(v2, 3)\n",
    "    fprintf(\"%s,%s,%s,%s\\n\", v2{:, 1, idx})\n",
    "end\n",
    "exit(0)\n",
    "\"\"\")\n",
    "script = r\"M:\\ascript.m\"\n",
    "with open(script, \"w\") as fid:\n",
    "    print(t.render())\n",
    "    print(t.render(), file=fid)"
   ]
  },
  {
   "cell_type": "code",
   "execution_count": 61,
   "metadata": {},
   "outputs": [],
   "source": [
    "import os"
   ]
  },
  {
   "cell_type": "code",
   "execution_count": 64,
   "metadata": {},
   "outputs": [
    {
     "data": {
      "text/plain": [
       "'C:\\\\Users\\\\admin'"
      ]
     },
     "execution_count": 64,
     "metadata": {},
     "output_type": "execute_result"
    }
   ],
   "source": [
    "os.path.expandvars(\"%HOMEDRIVE%%HOMEPATH%\"), \"Desktop\")"
   ]
  },
  {
   "cell_type": "code",
   "execution_count": 60,
   "metadata": {
    "collapsed": true
   },
   "outputs": [
    {
     "name": "stdout",
     "output_type": "stream",
     "text": [
      "@ECHO OFF\n",
      ":: Matlab Version Spawner Batchfile\n",
      "::  Batch launch all installed Matlab versions.\n",
      "::  Debugging\n",
      "\n",
      ":: Launch MATLAB R2014b\n",
      "del \"matlab_R2014b.log\"\n",
      "\"M:\\MATLAB\\R2014b\\bin\\matlab.exe\" -nosplash -logfile \"matlab_R2014b.log\" -wait -r \"run('M:\\ascript.m')\"\n",
      "\n",
      ":: Launch MATLAB R2015b\n",
      "del \"matlab_R2015b.log\"\n",
      "\"M:\\MATLAB\\R2015b\\bin\\matlab.exe\" -nosplash -logfile \"matlab_R2015b.log\" -wait -r \"run('M:\\ascript.m')\"\n",
      "\n",
      ":: Launch MATLAB R2016b\n",
      "del \"matlab_R2016b.log\"\n",
      "\"M:\\MATLAB\\R2016b\\bin\\matlab.exe\" -nosplash -logfile \"matlab_R2016b.log\" -wait -r \"run('M:\\ascript.m')\"\n",
      "\n",
      ":: Launch MATLAB R2017b\n",
      "del \"matlab_R2017b.log\"\n",
      "\"M:\\MATLAB\\R2017b\\bin\\matlab.exe\" -nosplash -logfile \"matlab_R2017b.log\" -wait -r \"run('M:\\ascript.m')\"\n",
      "\n",
      ":: Launch MATLAB R2018b\n",
      "del \"matlab_R2018b.log\"\n",
      "\"M:\\MATLAB\\R2018b\\bin\\matlab.exe\" -nosplash -logfile \"matlab_R2018b.log\" -wait -r \"run('M:\\ascript.m')\"\n",
      "\n",
      ":: Launch MATLAB R2019b\n",
      "del \"matlab_R2019b.log\"\n",
      "\"M:\\MATLAB\\R2019b\\bin\\matlab.exe\" -nosplash -logfile \"matlab_R2019b.log\" -wait -r \"run('M:\\ascript.m')\"\n",
      "\n",
      "\n"
     ]
    }
   ],
   "source": [
    "t = Template(\"\"\"@ECHO OFF\n",
    ":: Matlab Version Spawner Batchfile\n",
    "::  Batch launch all installed Matlab versions.\n",
    "::  Debugging\n",
    "\n",
    "{% for matlab in matlabs -%}\n",
    ":: Launch MATLAB {{ matlab.version }}\n",
    "del \"matlab_{{ matlab.version }}.log\"\n",
    "\"{{ matlab.exe }}\" -nosplash -logfile \"matlab_{{ matlab.version }}.log\" -wait -r \"run('{{ script }}')\"\n",
    "\n",
    "{% endfor %}\n",
    "\"\"\")\n",
    "with open(r\"M:\\matlabs_launcher.bat\", \"w\") as fid:\n",
    "    print(t.render(matlabs=matlabs, script=script))\n",
    "    print(t.render(matlabs=matlabs, script=script), file=fid)"
   ]
  },
  {
   "cell_type": "code",
   "execution_count": 42,
   "metadata": {},
   "outputs": [],
   "source": []
  },
  {
   "cell_type": "code",
   "execution_count": null,
   "metadata": {},
   "outputs": [],
   "source": []
  }
 ],
 "metadata": {
  "kernelspec": {
   "display_name": "Python 3",
   "language": "python",
   "name": "python3"
  },
  "language_info": {
   "codemirror_mode": {
    "name": "ipython",
    "version": 3
   },
   "file_extension": ".py",
   "mimetype": "text/x-python",
   "name": "python",
   "nbconvert_exporter": "python",
   "pygments_lexer": "ipython3",
   "version": "3.7.6"
  }
 },
 "nbformat": 4,
 "nbformat_minor": 2
}
