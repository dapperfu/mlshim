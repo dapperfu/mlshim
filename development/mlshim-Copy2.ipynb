{
 "cells": [
  {
   "cell_type": "code",
   "execution_count": 6,
   "metadata": {
    "collapsed": true
   },
   "outputs": [],
   "source": [
    "from mlshim import Matlab\n",
    "import os"
   ]
  },
  {
   "cell_type": "code",
   "execution_count": 7,
   "metadata": {
    "collapsed": true
   },
   "outputs": [],
   "source": [
    "mlab = Matlab()"
   ]
  },
  {
   "cell_type": "code",
   "execution_count": 8,
   "metadata": {},
   "outputs": [
    {
     "data": {
      "text/plain": [
       "['C:\\\\PROGRA~1\\\\MATLAB\\\\R2017b\\\\bin\\\\matlab.exe',\n",
       " '-nosplash',\n",
       " '-logfile',\n",
       " 'C:\\\\Projects\\\\mlshim\\\\mlshim_2017Nov09_171106_261102.log',\n",
       " '-r',\n",
       " \"run('C:\\\\Projects\\\\mlshim\\\\mlshim_2017Nov09_171106_261102.m');\"]"
      ]
     },
     "execution_count": 8,
     "metadata": {},
     "output_type": "execute_result"
    }
   ],
   "source": [
    "mlab.cmd"
   ]
  },
  {
   "cell_type": "code",
   "execution_count": 9,
   "metadata": {},
   "outputs": [
    {
     "data": {
      "text/plain": [
       "{'Machine': 'USGALWHP6047580',\n",
       " 'Script Creation': '2017-11-09T17:57:06.261102-05:00',\n",
       " 'User': 'C3038028'}"
      ]
     },
     "execution_count": 9,
     "metadata": {},
     "output_type": "execute_result"
    }
   ],
   "source": [
    "mlab.headers"
   ]
  },
  {
   "cell_type": "code",
   "execution_count": 10,
   "metadata": {},
   "outputs": [
    {
     "data": {
      "text/plain": [
       "['C:\\\\Users\\\\C3038028\\\\AppData\\\\Roaming\\\\MathWorks\\\\MATLAB\\\\R2017b_licenses\\\\license_USGALWHP6047580_413193_R2017b.lic']"
      ]
     },
     "execution_count": 10,
     "metadata": {},
     "output_type": "execute_result"
    }
   ],
   "source": [
    "mlab.licences"
   ]
  },
  {
   "cell_type": "code",
   "execution_count": 11,
   "metadata": {},
   "outputs": [
    {
     "data": {
      "text/plain": [
       "'2017-11-09T17:57:06.261102-05:00'"
      ]
     },
     "execution_count": 11,
     "metadata": {},
     "output_type": "execute_result"
    }
   ],
   "source": [
    "mlab._now.astimezone().isoformat()"
   ]
  },
  {
   "cell_type": "code",
   "execution_count": 13,
   "metadata": {},
   "outputs": [
    {
     "data": {
      "text/plain": [
       "['C:\\\\PROGRA~1\\\\MATLAB\\\\R2017b\\\\bin\\\\matlab.exe',\n",
       " '-nosplash',\n",
       " '-logfile',\n",
       " 'C:\\\\Projects\\\\mlshim\\\\mlshim_2017Nov09_171106_261102.log',\n",
       " '-r',\n",
       " \"run('C:\\\\Projects\\\\mlshim\\\\mlshim_2017Nov09_171106_261102.m');\"]"
      ]
     },
     "execution_count": 13,
     "metadata": {},
     "output_type": "execute_result"
    }
   ],
   "source": [
    "mlab.cmd"
   ]
  },
  {
   "cell_type": "code",
   "execution_count": 14,
   "metadata": {},
   "outputs": [
    {
     "name": "stdout",
     "output_type": "stream",
     "text": [
      "Logfile created in 3.50s\n",
      "Matlab finished\n"
     ]
    }
   ],
   "source": [
    "mlab.run()"
   ]
  }
 ],
 "metadata": {
  "kernelspec": {
   "display_name": "Python 3",
   "language": "python",
   "name": "python3"
  },
  "language_info": {
   "codemirror_mode": {
    "name": "ipython",
    "version": 3
   },
   "file_extension": ".py",
   "mimetype": "text/x-python",
   "name": "python",
   "nbconvert_exporter": "python",
   "pygments_lexer": "ipython3",
   "version": "3.6.1"
  }
 },
 "nbformat": 4,
 "nbformat_minor": 2
}
